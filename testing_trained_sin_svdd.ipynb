{
 "metadata": {
  "language_info": {
   "codemirror_mode": {
    "name": "ipython",
    "version": 3
   },
   "file_extension": ".py",
   "mimetype": "text/x-python",
   "name": "python",
   "nbconvert_exporter": "python",
   "pygments_lexer": "ipython3",
   "version": "3.8.5"
  },
  "orig_nbformat": 4,
  "kernelspec": {
   "name": "python3",
   "display_name": "Python 3.8.5 64-bit ('base': conda)"
  },
  "interpreter": {
   "hash": "8a25e0a7b34cd1d4a1614554bb095d14e8163f5d4081192f81bdf6cdcd9de2f3"
  }
 },
 "nbformat": 4,
 "nbformat_minor": 2,
 "cells": [
  {
   "cell_type": "code",
   "execution_count": 2,
   "metadata": {},
   "outputs": [],
   "source": [
    "import os\n",
    "import numpy as np\n",
    "import random\n",
    "import copy\n",
    "from collections import defaultdict\n",
    "\n",
    "import matplotlib.pyplot as plt\n",
    "\n",
    "plt.rc(\"font\", size=8)\n",
    "\n",
    "import torch\n",
    "import torch.nn as nn\n",
    "import torch.nn.functional as F\n",
    "from torch.utils.data import DataLoader\n",
    "\n",
    "from dataloader import CleanSineDataset\n",
    "from autoencoder_models import RNNEncoder, RNNDecoder, Seq2SeqAttn\n",
    "from svdd_models import ReccurentSVDD\n",
    "from data_utils import pad_collate"
   ]
  },
  {
   "cell_type": "code",
   "execution_count": 4,
   "metadata": {},
   "outputs": [
    {
     "output_type": "execute_result",
     "data": {
      "text/plain": [
       "<All keys matched successfully>"
      ]
     },
     "metadata": {},
     "execution_count": 4
    }
   ],
   "source": [
    "device = torch.device(\"cuda\" if torch.cuda.is_available() else \"cpu\")\n",
    "\n",
    "e = RNNEncoder(input_dim=1, bidirectional=True).to(device)\n",
    "d = RNNDecoder(\n",
    "    input_dim=(e.input_size + e.hidden_size * 2),\n",
    "    hidden_size=e.hidden_size,\n",
    "    bidirectional=True,\n",
    ").to(device)\n",
    "\n",
    "ae_model = Seq2SeqAttn(encoder=e, decoder=d).to(device)\n",
    "\n",
    "model = ReccurentSVDD(base_encoder=ae_model.encoder)\n",
    "model.load_state_dict(torch.load(\"svdd_sin_weights_145.pt\"))"
   ]
  },
  {
   "cell_type": "code",
   "execution_count": 7,
   "metadata": {},
   "outputs": [],
   "source": [
    "center = torch.tensor([-0.1000, -0.3285,  0.1867, -0.1000, -0.1093,  0.1832, -0.1000,  0.1697,\n",
    "         0.2774, -0.2732,  0.1000,  0.1367,  0.1562,  0.1000,  0.1551,  0.1000,\n",
    "         0.1513, -0.1000,  0.1000, -0.1000,  0.3307, -0.1000, -0.1711,  0.1000,\n",
    "        -0.1000, -0.1545,  0.1126,  0.1000,  0.1000,  0.1780, -0.1232, -0.2564,\n",
    "        -0.1000,  0.1540,  0.2733,  0.1000, -0.1000, -0.1000,  0.2511,  0.2235,\n",
    "        -0.1009, -0.1000,  0.1000,  0.1021, -0.2716, -0.2123,  0.1542, -0.1000,\n",
    "        -0.4258,  0.1000, -0.1500, -0.1028,  0.1982, -0.1416, -0.2465, -0.1000,\n",
    "         0.2258,  0.2194, -0.1066, -0.1466,  0.1000,  0.2482,  0.1920, -0.1227,\n",
    "        -0.1000, -0.1000, -0.2575, -0.1063,  0.1104, -0.1391,  0.2258, -0.1000,\n",
    "         0.1000, -0.1000, -0.1080,  0.1000, -0.2826, -0.1000,  0.1000, -0.2046,\n",
    "         0.2424, -0.2982,  0.2066, -0.3908, -0.1193,  0.1461, -0.2740,  0.1000,\n",
    "        -0.1000, -0.1000,  0.1000,  0.2446,  0.2489,  0.3152,  0.1000, -0.1000,\n",
    "         0.1000,  0.1000,  0.1000, -0.2627, -0.1000, -0.3285,  0.1867, -0.1000,\n",
    "        -0.1093,  0.1832, -0.1000,  0.1697,  0.2774, -0.2732,  0.1000,  0.1367,\n",
    "         0.1562,  0.1000,  0.1551,  0.1000,  0.1513, -0.1000,  0.1000, -0.1000,\n",
    "         0.3307, -0.1000, -0.1711,  0.1000, -0.1000, -0.1545,  0.1126,  0.1000,\n",
    "         0.1000,  0.1780, -0.1232, -0.2564, -0.1000,  0.1540,  0.2733,  0.1000,\n",
    "        -0.1000, -0.1000,  0.2511,  0.2235, -0.1009, -0.1000,  0.1000,  0.1021,\n",
    "        -0.2716, -0.2123,  0.1542, -0.1000, -0.4258,  0.1000, -0.1500, -0.1028,\n",
    "         0.1982, -0.1416, -0.2465, -0.1000,  0.2258,  0.2194, -0.1066, -0.1466,\n",
    "         0.1000,  0.2482,  0.1920, -0.1227, -0.1000, -0.1000, -0.2575, -0.1063,\n",
    "         0.1104, -0.1391,  0.2258, -0.1000,  0.1000, -0.1000, -0.1080,  0.1000,\n",
    "        -0.2826, -0.1000,  0.1000, -0.2046,  0.2424, -0.2982,  0.2066, -0.3908,\n",
    "        -0.1193,  0.1461, -0.2740,  0.1000, -0.1000, -0.1000,  0.1000,  0.2446,\n",
    "         0.2489,  0.3152,  0.1000, -0.1000,  0.1000,  0.1000,  0.1000, -0.2627],\n",
    "       device='cuda:0')"
   ]
  },
  {
   "cell_type": "code",
   "execution_count": 8,
   "metadata": {},
   "outputs": [],
   "source": [
    "clean_dataset = CleanSineDataset()\n",
    "\n",
    "\n",
    "clean_dataloader = DataLoader(\n",
    "    clean_dataset,\n",
    "    batch_size=10,\n",
    "    shuffle=True,\n",
    "    num_workers=0,\n",
    "    drop_last=True,\n",
    "    collate_fn=pad_collate,\n",
    ")"
   ]
  },
  {
   "cell_type": "code",
   "execution_count": 29,
   "metadata": {},
   "outputs": [
    {
     "output_type": "stream",
     "name": "stdout",
     "text": [
      "torch.Size([10, 50, 1])\ntensor([50., 50., 50., 50., 50., 50., 50., 50., 50., 50.])\nin circle tensor(1.0565e-06, device='cuda:0', grad_fn=<SumBackward0>)\n"
     ]
    }
   ],
   "source": [
    "(_, anchor_batch, anchor_lens) = next(iter(clean_dataloader))\n",
    "anchor_batch = anchor_batch.to(device)\n",
    "\n",
    "print(anchor_batch.shape)\n",
    "print(anchor_lens)\n",
    "expert_hidden = model.encoded_embedding(anchor_batch, anchor_lens)\n",
    "\n",
    "dist = ((expert_hidden - center) ** 2).view(-1)\n",
    "dist = torch.sum(dist)\n",
    "if np.abs(dist.item()) <= 0.001:\n",
    "    print(\"in circle\", dist)\n",
    "else:\n",
    "    print(\"out circle\", dist)"
   ]
  },
  {
   "cell_type": "code",
   "execution_count": 46,
   "metadata": {},
   "outputs": [],
   "source": [
    "x = np.linspace(1*np.pi, 8*np.pi, 50)\n",
    "tan = np.tan(x)"
   ]
  },
  {
   "cell_type": "code",
   "execution_count": 47,
   "metadata": {},
   "outputs": [
    {
     "output_type": "execute_result",
     "data": {
      "text/plain": [
       "[<matplotlib.lines.Line2D at 0x16c3611f700>]"
      ]
     },
     "metadata": {},
     "execution_count": 47
    },
    {
     "output_type": "display_data",
     "data": {
      "text/plain": "<Figure size 432x288 with 1 Axes>",
      "image/svg+xml": "<?xml version=\"1.0\" encoding=\"utf-8\" standalone=\"no\"?>\r\n<!DOCTYPE svg PUBLIC \"-//W3C//DTD SVG 1.1//EN\"\r\n  \"http://www.w3.org/Graphics/SVG/1.1/DTD/svg11.dtd\">\r\n<!-- Created with matplotlib (https://matplotlib.org/) -->\r\n<svg height=\"246.5825pt\" version=\"1.1\" viewBox=\"0 0 367.99375 246.5825\" width=\"367.99375pt\" xmlns=\"http://www.w3.org/2000/svg\" xmlns:xlink=\"http://www.w3.org/1999/xlink\">\r\n <metadata>\r\n  <rdf:RDF xmlns:cc=\"http://creativecommons.org/ns#\" xmlns:dc=\"http://purl.org/dc/elements/1.1/\" xmlns:rdf=\"http://www.w3.org/1999/02/22-rdf-syntax-ns#\">\r\n   <cc:Work>\r\n    <dc:type rdf:resource=\"http://purl.org/dc/dcmitype/StillImage\"/>\r\n    <dc:date>2021-07-27T17:50:58.155985</dc:date>\r\n    <dc:format>image/svg+xml</dc:format>\r\n    <dc:creator>\r\n     <cc:Agent>\r\n      <dc:title>Matplotlib v3.3.2, https://matplotlib.org/</dc:title>\r\n     </cc:Agent>\r\n    </dc:creator>\r\n   </cc:Work>\r\n  </rdf:RDF>\r\n </metadata>\r\n <defs>\r\n  <style type=\"text/css\">*{stroke-linecap:butt;stroke-linejoin:round;}</style>\r\n </defs>\r\n <g id=\"figure_1\">\r\n  <g id=\"patch_1\">\r\n   <path d=\"M -0 246.5825 \r\nL 367.99375 246.5825 \r\nL 367.99375 0 \r\nL -0 0 \r\nz\r\n\" style=\"fill:none;\"/>\r\n  </g>\r\n  <g id=\"axes_1\">\r\n   <g id=\"patch_2\">\r\n    <path d=\"M 25.99375 224.64 \r\nL 360.79375 224.64 \r\nL 360.79375 7.2 \r\nL 25.99375 7.2 \r\nz\r\n\" style=\"fill:#ffffff;\"/>\r\n   </g>\r\n   <g id=\"matplotlib.axis_1\">\r\n    <g id=\"xtick_1\">\r\n     <g id=\"line2d_1\">\r\n      <defs>\r\n       <path d=\"M 0 0 \r\nL 0 3.5 \r\n\" id=\"m517fd5db3d\" style=\"stroke:#000000;stroke-width:0.8;\"/>\r\n      </defs>\r\n      <g>\r\n       <use style=\"stroke:#000000;stroke-width:0.8;\" x=\"66.932808\" xlink:href=\"#m517fd5db3d\" y=\"224.64\"/>\r\n      </g>\r\n     </g>\r\n     <g id=\"text_1\">\r\n      <!-- 5 -->\r\n      <g transform=\"translate(64.387808 237.71875)scale(0.08 -0.08)\">\r\n       <defs>\r\n        <path d=\"M 10.796875 72.90625 \r\nL 49.515625 72.90625 \r\nL 49.515625 64.59375 \r\nL 19.828125 64.59375 \r\nL 19.828125 46.734375 \r\nQ 21.96875 47.46875 24.109375 47.828125 \r\nQ 26.265625 48.1875 28.421875 48.1875 \r\nQ 40.625 48.1875 47.75 41.5 \r\nQ 54.890625 34.8125 54.890625 23.390625 \r\nQ 54.890625 11.625 47.5625 5.09375 \r\nQ 40.234375 -1.421875 26.90625 -1.421875 \r\nQ 22.3125 -1.421875 17.546875 -0.640625 \r\nQ 12.796875 0.140625 7.71875 1.703125 \r\nL 7.71875 11.625 \r\nQ 12.109375 9.234375 16.796875 8.0625 \r\nQ 21.484375 6.890625 26.703125 6.890625 \r\nQ 35.15625 6.890625 40.078125 11.328125 \r\nQ 45.015625 15.765625 45.015625 23.390625 \r\nQ 45.015625 31 40.078125 35.4375 \r\nQ 35.15625 39.890625 26.703125 39.890625 \r\nQ 22.75 39.890625 18.8125 39.015625 \r\nQ 14.890625 38.140625 10.796875 36.28125 \r\nz\r\n\" id=\"DejaVuSans-53\"/>\r\n       </defs>\r\n       <use xlink:href=\"#DejaVuSans-53\"/>\r\n      </g>\r\n     </g>\r\n    </g>\r\n    <g id=\"xtick_2\">\r\n     <g id=\"line2d_2\">\r\n      <g>\r\n       <use style=\"stroke:#000000;stroke-width:0.8;\" x=\"136.134204\" xlink:href=\"#m517fd5db3d\" y=\"224.64\"/>\r\n      </g>\r\n     </g>\r\n     <g id=\"text_2\">\r\n      <!-- 10 -->\r\n      <g transform=\"translate(131.044204 237.71875)scale(0.08 -0.08)\">\r\n       <defs>\r\n        <path d=\"M 12.40625 8.296875 \r\nL 28.515625 8.296875 \r\nL 28.515625 63.921875 \r\nL 10.984375 60.40625 \r\nL 10.984375 69.390625 \r\nL 28.421875 72.90625 \r\nL 38.28125 72.90625 \r\nL 38.28125 8.296875 \r\nL 54.390625 8.296875 \r\nL 54.390625 0 \r\nL 12.40625 0 \r\nz\r\n\" id=\"DejaVuSans-49\"/>\r\n        <path d=\"M 31.78125 66.40625 \r\nQ 24.171875 66.40625 20.328125 58.90625 \r\nQ 16.5 51.421875 16.5 36.375 \r\nQ 16.5 21.390625 20.328125 13.890625 \r\nQ 24.171875 6.390625 31.78125 6.390625 \r\nQ 39.453125 6.390625 43.28125 13.890625 \r\nQ 47.125 21.390625 47.125 36.375 \r\nQ 47.125 51.421875 43.28125 58.90625 \r\nQ 39.453125 66.40625 31.78125 66.40625 \r\nz\r\nM 31.78125 74.21875 \r\nQ 44.046875 74.21875 50.515625 64.515625 \r\nQ 56.984375 54.828125 56.984375 36.375 \r\nQ 56.984375 17.96875 50.515625 8.265625 \r\nQ 44.046875 -1.421875 31.78125 -1.421875 \r\nQ 19.53125 -1.421875 13.0625 8.265625 \r\nQ 6.59375 17.96875 6.59375 36.375 \r\nQ 6.59375 54.828125 13.0625 64.515625 \r\nQ 19.53125 74.21875 31.78125 74.21875 \r\nz\r\n\" id=\"DejaVuSans-48\"/>\r\n       </defs>\r\n       <use xlink:href=\"#DejaVuSans-49\"/>\r\n       <use x=\"63.623047\" xlink:href=\"#DejaVuSans-48\"/>\r\n      </g>\r\n     </g>\r\n    </g>\r\n    <g id=\"xtick_3\">\r\n     <g id=\"line2d_3\">\r\n      <g>\r\n       <use style=\"stroke:#000000;stroke-width:0.8;\" x=\"205.3356\" xlink:href=\"#m517fd5db3d\" y=\"224.64\"/>\r\n      </g>\r\n     </g>\r\n     <g id=\"text_3\">\r\n      <!-- 15 -->\r\n      <g transform=\"translate(200.2456 237.71875)scale(0.08 -0.08)\">\r\n       <use xlink:href=\"#DejaVuSans-49\"/>\r\n       <use x=\"63.623047\" xlink:href=\"#DejaVuSans-53\"/>\r\n      </g>\r\n     </g>\r\n    </g>\r\n    <g id=\"xtick_4\">\r\n     <g id=\"line2d_4\">\r\n      <g>\r\n       <use style=\"stroke:#000000;stroke-width:0.8;\" x=\"274.536996\" xlink:href=\"#m517fd5db3d\" y=\"224.64\"/>\r\n      </g>\r\n     </g>\r\n     <g id=\"text_4\">\r\n      <!-- 20 -->\r\n      <g transform=\"translate(269.446996 237.71875)scale(0.08 -0.08)\">\r\n       <defs>\r\n        <path d=\"M 19.1875 8.296875 \r\nL 53.609375 8.296875 \r\nL 53.609375 0 \r\nL 7.328125 0 \r\nL 7.328125 8.296875 \r\nQ 12.9375 14.109375 22.625 23.890625 \r\nQ 32.328125 33.6875 34.8125 36.53125 \r\nQ 39.546875 41.84375 41.421875 45.53125 \r\nQ 43.3125 49.21875 43.3125 52.78125 \r\nQ 43.3125 58.59375 39.234375 62.25 \r\nQ 35.15625 65.921875 28.609375 65.921875 \r\nQ 23.96875 65.921875 18.8125 64.3125 \r\nQ 13.671875 62.703125 7.8125 59.421875 \r\nL 7.8125 69.390625 \r\nQ 13.765625 71.78125 18.9375 73 \r\nQ 24.125 74.21875 28.421875 74.21875 \r\nQ 39.75 74.21875 46.484375 68.546875 \r\nQ 53.21875 62.890625 53.21875 53.421875 \r\nQ 53.21875 48.921875 51.53125 44.890625 \r\nQ 49.859375 40.875 45.40625 35.40625 \r\nQ 44.1875 33.984375 37.640625 27.21875 \r\nQ 31.109375 20.453125 19.1875 8.296875 \r\nz\r\n\" id=\"DejaVuSans-50\"/>\r\n       </defs>\r\n       <use xlink:href=\"#DejaVuSans-50\"/>\r\n       <use x=\"63.623047\" xlink:href=\"#DejaVuSans-48\"/>\r\n      </g>\r\n     </g>\r\n    </g>\r\n    <g id=\"xtick_5\">\r\n     <g id=\"line2d_5\">\r\n      <g>\r\n       <use style=\"stroke:#000000;stroke-width:0.8;\" x=\"343.738393\" xlink:href=\"#m517fd5db3d\" y=\"224.64\"/>\r\n      </g>\r\n     </g>\r\n     <g id=\"text_5\">\r\n      <!-- 25 -->\r\n      <g transform=\"translate(338.648393 237.71875)scale(0.08 -0.08)\">\r\n       <use xlink:href=\"#DejaVuSans-50\"/>\r\n       <use x=\"63.623047\" xlink:href=\"#DejaVuSans-53\"/>\r\n      </g>\r\n     </g>\r\n    </g>\r\n   </g>\r\n   <g id=\"matplotlib.axis_2\">\r\n    <g id=\"ytick_1\">\r\n     <g id=\"line2d_6\">\r\n      <defs>\r\n       <path d=\"M 0 0 \r\nL -3.5 0 \r\n\" id=\"md68451c534\" style=\"stroke:#000000;stroke-width:0.8;\"/>\r\n      </defs>\r\n      <g>\r\n       <use style=\"stroke:#000000;stroke-width:0.8;\" x=\"25.99375\" xlink:href=\"#md68451c534\" y=\"206.15502\"/>\r\n      </g>\r\n     </g>\r\n     <g id=\"text_6\">\r\n      <!-- −4 -->\r\n      <g transform=\"translate(7.2 209.194395)scale(0.08 -0.08)\">\r\n       <defs>\r\n        <path d=\"M 10.59375 35.5 \r\nL 73.1875 35.5 \r\nL 73.1875 27.203125 \r\nL 10.59375 27.203125 \r\nz\r\n\" id=\"DejaVuSans-8722\"/>\r\n        <path d=\"M 37.796875 64.3125 \r\nL 12.890625 25.390625 \r\nL 37.796875 25.390625 \r\nz\r\nM 35.203125 72.90625 \r\nL 47.609375 72.90625 \r\nL 47.609375 25.390625 \r\nL 58.015625 25.390625 \r\nL 58.015625 17.1875 \r\nL 47.609375 17.1875 \r\nL 47.609375 0 \r\nL 37.796875 0 \r\nL 37.796875 17.1875 \r\nL 4.890625 17.1875 \r\nL 4.890625 26.703125 \r\nz\r\n\" id=\"DejaVuSans-52\"/>\r\n       </defs>\r\n       <use xlink:href=\"#DejaVuSans-8722\"/>\r\n       <use x=\"83.789062\" xlink:href=\"#DejaVuSans-52\"/>\r\n      </g>\r\n     </g>\r\n    </g>\r\n    <g id=\"ytick_2\">\r\n     <g id=\"line2d_7\">\r\n      <g>\r\n       <use style=\"stroke:#000000;stroke-width:0.8;\" x=\"25.99375\" xlink:href=\"#md68451c534\" y=\"161.03751\"/>\r\n      </g>\r\n     </g>\r\n     <g id=\"text_7\">\r\n      <!-- −2 -->\r\n      <g transform=\"translate(7.2 164.076885)scale(0.08 -0.08)\">\r\n       <use xlink:href=\"#DejaVuSans-8722\"/>\r\n       <use x=\"83.789062\" xlink:href=\"#DejaVuSans-50\"/>\r\n      </g>\r\n     </g>\r\n    </g>\r\n    <g id=\"ytick_3\">\r\n     <g id=\"line2d_8\">\r\n      <g>\r\n       <use style=\"stroke:#000000;stroke-width:0.8;\" x=\"25.99375\" xlink:href=\"#md68451c534\" y=\"115.92\"/>\r\n      </g>\r\n     </g>\r\n     <g id=\"text_8\">\r\n      <!-- 0 -->\r\n      <g transform=\"translate(13.90375 118.959375)scale(0.08 -0.08)\">\r\n       <use xlink:href=\"#DejaVuSans-48\"/>\r\n      </g>\r\n     </g>\r\n    </g>\r\n    <g id=\"ytick_4\">\r\n     <g id=\"line2d_9\">\r\n      <g>\r\n       <use style=\"stroke:#000000;stroke-width:0.8;\" x=\"25.99375\" xlink:href=\"#md68451c534\" y=\"70.80249\"/>\r\n      </g>\r\n     </g>\r\n     <g id=\"text_9\">\r\n      <!-- 2 -->\r\n      <g transform=\"translate(13.90375 73.841865)scale(0.08 -0.08)\">\r\n       <use xlink:href=\"#DejaVuSans-50\"/>\r\n      </g>\r\n     </g>\r\n    </g>\r\n    <g id=\"ytick_5\">\r\n     <g id=\"line2d_10\">\r\n      <g>\r\n       <use style=\"stroke:#000000;stroke-width:0.8;\" x=\"25.99375\" xlink:href=\"#md68451c534\" y=\"25.68498\"/>\r\n      </g>\r\n     </g>\r\n     <g id=\"text_10\">\r\n      <!-- 4 -->\r\n      <g transform=\"translate(13.90375 28.724355)scale(0.08 -0.08)\">\r\n       <use xlink:href=\"#DejaVuSans-52\"/>\r\n      </g>\r\n     </g>\r\n    </g>\r\n   </g>\r\n   <g id=\"line2d_11\">\r\n    <path clip-path=\"url(#p33d7535642)\" d=\"M 41.211932 115.92 \r\nL 47.423435 105.056276 \r\nL 53.634937 87.632216 \r\nL 59.84644 17.083636 \r\nL 66.057943 214.756364 \r\nL 72.269446 144.207784 \r\nL 78.480949 126.783724 \r\nL 84.692451 115.92 \r\nL 90.903954 105.056276 \r\nL 97.115457 87.632216 \r\nL 103.32696 17.083636 \r\nL 109.538462 214.756364 \r\nL 115.749965 144.207784 \r\nL 121.961468 126.783724 \r\nL 128.172971 115.92 \r\nL 134.384474 105.056276 \r\nL 140.595976 87.632216 \r\nL 146.807479 17.083636 \r\nL 153.018982 214.756364 \r\nL 159.230485 144.207784 \r\nL 165.441987 126.783724 \r\nL 171.65349 115.92 \r\nL 177.864993 105.056276 \r\nL 184.076496 87.632216 \r\nL 190.287999 17.083636 \r\nL 196.499501 214.756364 \r\nL 202.711004 144.207784 \r\nL 208.922507 126.783724 \r\nL 215.13401 115.92 \r\nL 221.345513 105.056276 \r\nL 227.557015 87.632216 \r\nL 233.768518 17.083636 \r\nL 239.980021 214.756364 \r\nL 246.191524 144.207784 \r\nL 252.403026 126.783724 \r\nL 258.614529 115.92 \r\nL 264.826032 105.056276 \r\nL 271.037535 87.632216 \r\nL 277.249038 17.083636 \r\nL 283.46054 214.756364 \r\nL 289.672043 144.207784 \r\nL 295.883546 126.783724 \r\nL 302.095049 115.92 \r\nL 308.306551 105.056276 \r\nL 314.518054 87.632216 \r\nL 320.729557 17.083636 \r\nL 326.94106 214.756364 \r\nL 333.152563 144.207784 \r\nL 339.364065 126.783724 \r\nL 345.575568 115.92 \r\n\" style=\"fill:none;stroke:#1f77b4;stroke-linecap:square;stroke-width:1.5;\"/>\r\n   </g>\r\n   <g id=\"patch_3\">\r\n    <path d=\"M 25.99375 224.64 \r\nL 25.99375 7.2 \r\n\" style=\"fill:none;stroke:#000000;stroke-linecap:square;stroke-linejoin:miter;stroke-width:0.8;\"/>\r\n   </g>\r\n   <g id=\"patch_4\">\r\n    <path d=\"M 360.79375 224.64 \r\nL 360.79375 7.2 \r\n\" style=\"fill:none;stroke:#000000;stroke-linecap:square;stroke-linejoin:miter;stroke-width:0.8;\"/>\r\n   </g>\r\n   <g id=\"patch_5\">\r\n    <path d=\"M 25.99375 224.64 \r\nL 360.79375 224.64 \r\n\" style=\"fill:none;stroke:#000000;stroke-linecap:square;stroke-linejoin:miter;stroke-width:0.8;\"/>\r\n   </g>\r\n   <g id=\"patch_6\">\r\n    <path d=\"M 25.99375 7.2 \r\nL 360.79375 7.2 \r\n\" style=\"fill:none;stroke:#000000;stroke-linecap:square;stroke-linejoin:miter;stroke-width:0.8;\"/>\r\n   </g>\r\n  </g>\r\n </g>\r\n <defs>\r\n  <clipPath id=\"p33d7535642\">\r\n   <rect height=\"217.44\" width=\"334.8\" x=\"25.99375\" y=\"7.2\"/>\r\n  </clipPath>\r\n </defs>\r\n</svg>\r\n",
      "image/png": "[encoded data removed]"
     },
     "metadata": {
      "needs_background": "light"
     }
    }
   ],
   "source": [
    "plt.plot(x, tan)"
   ]
  },
  {
   "cell_type": "code",
   "execution_count": 48,
   "metadata": {},
   "outputs": [
    {
     "output_type": "stream",
     "name": "stdout",
     "text": [
      "out circle tensor(0.0096, device='cuda:0', grad_fn=<SumBackward0>)\n"
     ]
    }
   ],
   "source": [
    "anchor_batch = torch.from_numpy(tan).to(device).view(1, -1, 1).float()\n",
    "anchor_lens = torch.tensor([50], dtype= torch.long)\n",
    "\n",
    "expert_hidden = model.encoded_embedding(anchor_batch, anchor_lens)\n",
    "\n",
    "dist = ((expert_hidden - center) ** 2).view(-1)\n",
    "dist = torch.sum(dist)\n",
    "if np.abs(dist.item()) <= 0.001:\n",
    "    print(\"in circle\", dist)\n",
    "else:\n",
    "    print(\"out circle\", dist)"
   ]
  },
  {
   "cell_type": "code",
   "execution_count": null,
   "metadata": {},
   "outputs": [],
   "source": []
  }
 ]
}